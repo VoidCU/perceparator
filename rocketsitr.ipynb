{
 "cells": [
  {
   "cell_type": "code",
   "execution_count": 1,
   "id": "36adb124",
   "metadata": {},
   "outputs": [],
   "source": [
    "import torch\n",
    "import torch.nn as nn"
   ]
  },
  {
   "cell_type": "code",
   "execution_count": 64,
   "id": "98eda232",
   "metadata": {},
   "outputs": [],
   "source": [
    "conv1=nn.Conv1d(\n",
    "    in_channels=1,\n",
    "    out_channels=256,\n",
    "    kernel_size=2,\n",
    "    stride=1,\n",
    "    padding=0,\n",
    "    bias=False\n",
    ")\n",
    "ReLU=nn.ReLU()"
   ]
  },
  {
   "cell_type": "code",
   "execution_count": 66,
   "id": "fc10877f",
   "metadata": {},
   "outputs": [],
   "source": [
    "val=torch.rand(64,1,16002)"
   ]
  },
  {
   "cell_type": "code",
   "execution_count": 63,
   "id": "90907b62",
   "metadata": {},
   "outputs": [
    {
     "data": {
      "text/plain": [
       "torch.Size([1, 64, 16002])"
      ]
     },
     "execution_count": 63,
     "metadata": {},
     "output_type": "execute_result"
    }
   ],
   "source": [
    "val.size()"
   ]
  },
  {
   "cell_type": "code",
   "execution_count": 58,
   "id": "12f75d49",
   "metadata": {},
   "outputs": [
    {
     "data": {
      "text/plain": [
       "tensor([[5., 3., 7.]])"
      ]
     },
     "execution_count": 58,
     "metadata": {},
     "output_type": "execute_result"
    }
   ],
   "source": [
    "val"
   ]
  },
  {
   "cell_type": "code",
   "execution_count": 59,
   "id": "2705e89e",
   "metadata": {},
   "outputs": [
    {
     "data": {
      "text/plain": [
       "[Parameter containing:\n",
       " tensor([[[-0.3758, -0.5140]],\n",
       " \n",
       "         [[ 0.4091, -0.0743]],\n",
       " \n",
       "         [[-0.1067,  0.3019]]], requires_grad=True)]"
      ]
     },
     "execution_count": 59,
     "metadata": {},
     "output_type": "execute_result"
    }
   ],
   "source": [
    "list(conv1.parameters())"
   ]
  },
  {
   "cell_type": "code",
   "execution_count": 67,
   "id": "00526050",
   "metadata": {},
   "outputs": [
    {
     "data": {
      "text/plain": [
       "torch.Size([64, 256, 16001])"
      ]
     },
     "execution_count": 67,
     "metadata": {},
     "output_type": "execute_result"
    }
   ],
   "source": [
    "conv1(val).size()"
   ]
  },
  {
   "cell_type": "code",
   "execution_count": 50,
   "id": "605a74f8",
   "metadata": {},
   "outputs": [
    {
     "data": {
      "text/plain": [
       "tensor([[0.0000, 0.0000],\n",
       "        [0.3160, 0.0000],\n",
       "        [0.0000, 0.2230]], grad_fn=<ReluBackward0>)"
      ]
     },
     "execution_count": 50,
     "metadata": {},
     "output_type": "execute_result"
    }
   ],
   "source": [
    "ReLU(conv1(val))"
   ]
  }
 ],
 "metadata": {
  "kernelspec": {
   "display_name": "Python 3",
   "language": "python",
   "name": "python3"
  },
  "language_info": {
   "codemirror_mode": {
    "name": "ipython",
    "version": 3
   },
   "file_extension": ".py",
   "mimetype": "text/x-python",
   "name": "python",
   "nbconvert_exporter": "python",
   "pygments_lexer": "ipython3",
   "version": "3.10.7 (tags/v3.10.7:6cc6b13, Sep  5 2022, 14:08:36) [MSC v.1933 64 bit (AMD64)]"
  },
  "vscode": {
   "interpreter": {
    "hash": "76d7c06053c3456e5600312cec90888656fc0ed30c03d8425b9dac6e4fc8e014"
   }
  }
 },
 "nbformat": 4,
 "nbformat_minor": 5
}
